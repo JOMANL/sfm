{
 "cells": [
  {
   "cell_type": "code",
   "execution_count": 1,
   "id": "a2f6e0f2",
   "metadata": {},
   "outputs": [
    {
     "name": "stdout",
     "output_type": "stream",
     "text": [
      "env: OMP_NUM_THREADS=10\n",
      "%pylab is deprecated, use %matplotlib inline and import the required libraries.\n",
      "Populating the interactive namespace from numpy and matplotlib\n"
     ]
    }
   ],
   "source": [
    "%matplotlib inline\n",
    "%env OMP_NUM_THREADS=10 \n",
    "%pylab inline \n",
    "%load_ext autoreload\n",
    "%autoreload 2\n",
    "plt.rcParams['figure.figsize'] = [12, 12]"
   ]
  },
  {
   "cell_type": "code",
   "execution_count": 2,
   "id": "ce3980db",
   "metadata": {},
   "outputs": [],
   "source": [
    "# based on this article\n",
    "#https://www.python.ambitious-engineer.com/archives/745"
   ]
  },
  {
   "cell_type": "code",
   "execution_count": 3,
   "id": "12a40864",
   "metadata": {},
   "outputs": [],
   "source": [
    "import sqlite3"
   ]
  },
  {
   "cell_type": "code",
   "execution_count": 4,
   "id": "e2945763",
   "metadata": {},
   "outputs": [],
   "source": [
    "conn = sqlite3.connect('sample.sqlite3')\n",
    "\n",
    "# カーソルを取得\n",
    "c = conn.cursor()"
   ]
  },
  {
   "cell_type": "code",
   "execution_count": 5,
   "id": "6210bab7",
   "metadata": {},
   "outputs": [
    {
     "ename": "OperationalError",
     "evalue": "table articles already exists",
     "output_type": "error",
     "traceback": [
      "\u001b[0;31m---------------------------------------------------------------------------\u001b[0m",
      "\u001b[0;31mOperationalError\u001b[0m                          Traceback (most recent call last)",
      "Cell \u001b[0;32mIn[5], line 1\u001b[0m\n\u001b[0;32m----> 1\u001b[0m \u001b[43mc\u001b[49m\u001b[38;5;241;43m.\u001b[39;49m\u001b[43mexecute\u001b[49m\u001b[43m(\u001b[49m\u001b[38;5;124;43m'\u001b[39;49m\u001b[38;5;124;43mCREATE TABLE articles  (id int, title varchar(1024), body text, created datetime)\u001b[39;49m\u001b[38;5;124;43m'\u001b[39;49m\u001b[43m)\u001b[49m\n",
      "\u001b[0;31mOperationalError\u001b[0m: table articles already exists"
     ]
    }
   ],
   "source": [
    "c.execute('CREATE TABLE articles  (id int, title varchar(1024), body text, created datetime)')"
   ]
  },
  {
   "cell_type": "code",
   "execution_count": 6,
   "id": "9b3d4caf",
   "metadata": {},
   "outputs": [],
   "source": [
    "# Insert実行\n",
    "c.execute(\"INSERT INTO articles VALUES (1,'今朝のおかず','魚を食べました','2020-02-01 00:00:00')\")\n",
    "c.execute(\"INSERT INTO articles VALUES (2,'今日のお昼ごはん','カレーを食べました','2020-02-02 00:00:00')\")\n",
    "c.execute(\"INSERT INTO articles VALUES (3,'今夜の夕食','夕食はハンバーグでした','2020-02-03 00:00:00')\")\n",
    " \n",
    "# コミット\n",
    "conn.commit()\n",
    " \n",
    "# コネクションをクローズ\n",
    "conn.close()"
   ]
  },
  {
   "cell_type": "code",
   "execution_count": null,
   "id": "028d29a6",
   "metadata": {},
   "outputs": [],
   "source": []
  }
 ],
 "metadata": {
  "kernelspec": {
   "display_name": "Python 3 (ipykernel)",
   "language": "python",
   "name": "python3"
  },
  "language_info": {
   "codemirror_mode": {
    "name": "ipython",
    "version": 3
   },
   "file_extension": ".py",
   "mimetype": "text/x-python",
   "name": "python",
   "nbconvert_exporter": "python",
   "pygments_lexer": "ipython3",
   "version": "3.8.10"
  }
 },
 "nbformat": 4,
 "nbformat_minor": 5
}
