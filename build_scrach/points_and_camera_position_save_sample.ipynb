{
 "cells": [
  {
   "cell_type": "code",
   "execution_count": 12,
   "id": "33328dc7-231d-4991-b4cc-d6d1427ce36c",
   "metadata": {},
   "outputs": [
    {
     "name": "stdout",
     "output_type": "stream",
     "text": [
      "env: OMP_NUM_THREADS=10\n",
      "%pylab is deprecated, use %matplotlib inline and import the required libraries.\n",
      "Populating the interactive namespace from numpy and matplotlib\n"
     ]
    }
   ],
   "source": [
    "%matplotlib inline\n",
    "%env OMP_NUM_THREADS=10 \n",
    "%pylab inline \n",
    "%load_ext autoreload\n",
    "%autoreload 2\n",
    "plt.rcParams['figure.figsize'] = [12, 12]"
   ]
  },
  {
   "cell_type": "code",
   "execution_count": 2,
   "id": "7c7f2a09",
   "metadata": {},
   "outputs": [],
   "source": [
    "import sys\n",
    "sys.path.append(\"../utils\")\n",
    "\n",
    "from utils_3d import *\n",
    "import matplotlib.pyplot as plt"
   ]
  },
  {
   "cell_type": "code",
   "execution_count": 3,
   "id": "0b7cafab-bc2e-4da2-b087-466da630cadb",
   "metadata": {
    "tags": []
   },
   "outputs": [],
   "source": [
    "out_pcl_file_name = \"/home/leo/work/sfm/viewer/webgl/static/model/old/model_test2.ply\"\n",
    "out_camera_file_name = \"/home/leo/work/sfm/viewer/webgl/static/model/old/camera2.ply\""
   ]
  },
  {
   "cell_type": "code",
   "execution_count": 10,
   "id": "da44c1ef",
   "metadata": {},
   "outputs": [],
   "source": [
    "pts = np.array([[10,10,-1],[1,0,0],[1,1,0],[0,1,0],[0,0,1],[1,0,1],[1,1,1],[0,1,0]])"
   ]
  },
  {
   "cell_type": "code",
   "execution_count": 11,
   "id": "ae177b12-759e-4402-9a3f-ffe4f509288f",
   "metadata": {},
   "outputs": [],
   "source": [
    "save_3dpoints_ply(pts,out_pcl_file_name,True)"
   ]
  },
  {
   "cell_type": "code",
   "execution_count": 6,
   "id": "012185fa",
   "metadata": {},
   "outputs": [],
   "source": [
    "# single camera sample\n",
    "P = np.array([0,0,0])\n",
    "R = np.eye(3)\n",
    "generate_single_camera_ply(P,R,out_camera_file_name)"
   ]
  },
  {
   "cell_type": "code",
   "execution_count": 7,
   "id": "80dbb5e8",
   "metadata": {},
   "outputs": [],
   "source": [
    "# multiple camera sample\n",
    "Z =1\n",
    "R =4\n",
    "N = 10\n",
    "\n",
    "sitas = np.arange(0,2*np.pi,2*np.pi/N)\n",
    "Zs = np.ones(N) * Z\n",
    "Xs = [R * np.cos(s) for s in sitas]\n",
    "Ys = [R * np.sin(s) for s in sitas]\n",
    "\n",
    "Ps = np.array([Xs,Ys,Zs]).T\n",
    "Rs = np.array([np.array([[np.cos(s),np.sin(s),0],[np.cos(s+np.pi*0.5),np.sin(s+np.pi*0.5),0],[0,0,1]]).T for s in sitas])\n",
    "\n",
    "generate_multiple_camera_ply(Ps,Rs,out_camera_file_name)"
   ]
  },
  {
   "cell_type": "code",
   "execution_count": null,
   "id": "2905ff7f",
   "metadata": {},
   "outputs": [],
   "source": []
  },
  {
   "cell_type": "code",
   "execution_count": null,
   "id": "727b4ada",
   "metadata": {},
   "outputs": [],
   "source": []
  }
 ],
 "metadata": {
  "kernelspec": {
   "display_name": "Python 3 (ipykernel)",
   "language": "python",
   "name": "python3"
  },
  "language_info": {
   "codemirror_mode": {
    "name": "ipython",
    "version": 3
   },
   "file_extension": ".py",
   "mimetype": "text/x-python",
   "name": "python",
   "nbconvert_exporter": "python",
   "pygments_lexer": "ipython3",
   "version": "3.9.8"
  }
 },
 "nbformat": 4,
 "nbformat_minor": 5
}
