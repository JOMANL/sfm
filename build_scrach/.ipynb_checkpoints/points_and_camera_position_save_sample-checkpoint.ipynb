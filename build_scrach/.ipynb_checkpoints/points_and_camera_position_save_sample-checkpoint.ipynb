{
 "cells": [
  {
   "cell_type": "code",
   "execution_count": 1,
   "id": "33328dc7-231d-4991-b4cc-d6d1427ce36c",
   "metadata": {},
   "outputs": [
    {
     "name": "stdout",
     "output_type": "stream",
     "text": [
      "Warning: Cannot change to a different GUI toolkit: widget. Using notebook instead.\n"
     ]
    }
   ],
   "source": [
    "%matplotlib notebook\n",
    "%matplotlib widget"
   ]
  },
  {
   "cell_type": "code",
   "execution_count": 2,
   "id": "7c7f2a09",
   "metadata": {},
   "outputs": [],
   "source": [
    "import sys\n",
    "sys.path.append(\"../utils\")\n",
    "\n",
    "from utils_3d import *"
   ]
  },
  {
   "cell_type": "code",
   "execution_count": 3,
   "id": "0b7cafab-bc2e-4da2-b087-466da630cadb",
   "metadata": {
    "tags": []
   },
   "outputs": [],
   "source": [
    "out_pcl_file_name = \"/home/leo/work/sfm/viewer/webgl/static/model/old/model_test2.ply\"\n",
    "out_camera_file_name = \"/home/leo/work/sfm/viewer/webgl/static/model/old/camera2.ply\""
   ]
  },
  {
   "cell_type": "code",
   "execution_count": 4,
   "id": "da44c1ef",
   "metadata": {},
   "outputs": [],
   "source": [
    "pts = np.array([[0,0,0],[1,0,0],[1,1,0],[0,1,0],[0,0,1],[1,0,1],[1,1,1],[0,1,1]])"
   ]
  },
  {
   "cell_type": "code",
   "execution_count": 5,
   "id": "ae177b12-759e-4402-9a3f-ffe4f509288f",
   "metadata": {},
   "outputs": [],
   "source": [
    "save_3dpoints(pts,out_pcl_file_name,True)"
   ]
  },
  {
   "cell_type": "code",
   "execution_count": 37,
   "id": "5bb873e5",
   "metadata": {},
   "outputs": [],
   "source": [
    "def make_view_cone_for_ply(pos,rot,stat_vertex_idx=0,f=0.1,fov_deg=90):\n",
    "    r1 = rot.T[0,:]\n",
    "    r2 = rot.T[1,:]\n",
    "    r3 = rot.T[2,:]\n",
    "    \n",
    "    half_fov_rad = fov_deg/180 * np.pi * 0.5\n",
    "    bottom_offset = f * np.tan(half_fov_rad)\n",
    "    \n",
    "    p1 = pos + f*r3 + bottom_offset *(r1+r2)\n",
    "    p2 = pos + f*r3 + bottom_offset *(r1-r2)\n",
    "    p3 = pos + f*r3 + bottom_offset *(-r1+r2)\n",
    "    p4 = pos + f*r3 + bottom_offset *(-r1-r2)\n",
    "    print(p1)\n",
    "    \n",
    "    vertices = np.array([pos,p1,p2,p3,p4])\n",
    "    edges = [[3,stat_vertex_idx+0,stat_vertex_idx+1,stat_vertex_idx+2],\n",
    "             [3,stat_vertex_idx+0,stat_vertex_idx+2,stat_vertex_idx+3],\n",
    "             [3,stat_vertex_idx+0,stat_vertex_idx+3,stat_vertex_idx+4],\n",
    "             [3,stat_vertex_idx+0,stat_vertex_idx+4,stat_vertex_idx+1],\n",
    "             [4,stat_vertex_idx+1,stat_vertex_idx+2,stat_vertex_idx+3,stat_vertex_idx+4]]\n",
    "    return vertices,edges"
   ]
  },
  {
   "cell_type": "code",
   "execution_count": 38,
   "id": "d63cc241",
   "metadata": {},
   "outputs": [],
   "source": [
    "def generate_camera_sample(file_name,color=[255,0,0]):\n",
    "    P = np.array([0,0,0])\n",
    "    R=np.eye(3)\n",
    "    vertices,edges  =make_view_cone_for_ply(P,R,0,f=1)\n",
    "    \n",
    "    \"\"\"write header\"\"\"\n",
    "    header = (\n",
    "    'ply\\n\\\n",
    "format ascii 1.0\\n\\\n",
    "element vertex {}\\n\\\n",
    "property float x\\n\\\n",
    "property float y\\n\\\n",
    "property float z\\n\\\n",
    "property uchar red\\n\\\n",
    "property uchar green\\n\\\n",
    "property uchar blue\\n\\\n",
    "element face {}\\n\\\n",
    "property list uchar int vertex_indices\\n\\\n",
    "end_header\\n').format(len(vertices),len(edges)\n",
    ")\n",
    "\n",
    "    with open(file_name, 'w') as f:\n",
    "        f.write(header)\n",
    "        \n",
    "        \n",
    "    cols = np.tile(np.array(color),(vertices.shape[0],1))\n",
    "    vertices_w_col = np.concatenate([vertices,cols], axis=1)\n",
    "    \n",
    "    with open(file_name, 'a') as f:\n",
    "        np.savetxt(f, vertices_w_col, fmt='%.5f')\n",
    "        # 'a'モードで点情報を上書き追記する\n",
    "    print(edges)\n",
    "    with open(file_name, 'a') as f:\n",
    "        np.savetxt(f, edges[:4], fmt='%i')"
   ]
  },
  {
   "cell_type": "code",
   "execution_count": 39,
   "id": "01102335",
   "metadata": {},
   "outputs": [
    {
     "name": "stdout",
     "output_type": "stream",
     "text": [
      "[1. 1. 1.]\n",
      "[[3, 0, 1, 2], [3, 0, 2, 3], [3, 0, 3, 4], [3, 0, 4, 1], [4, 1, 2, 3, 4]]\n"
     ]
    }
   ],
   "source": [
    "generate_camera_sample(out_camera_file_name)"
   ]
  },
  {
   "cell_type": "code",
   "execution_count": null,
   "id": "5dab217c",
   "metadata": {},
   "outputs": [],
   "source": [
    "np.tan()"
   ]
  }
 ],
 "metadata": {
  "kernelspec": {
   "display_name": "Python 3 (ipykernel)",
   "language": "python",
   "name": "python3"
  },
  "language_info": {
   "codemirror_mode": {
    "name": "ipython",
    "version": 3
   },
   "file_extension": ".py",
   "mimetype": "text/x-python",
   "name": "python",
   "nbconvert_exporter": "python",
   "pygments_lexer": "ipython3",
   "version": "3.9.8"
  }
 },
 "nbformat": 4,
 "nbformat_minor": 5
}
